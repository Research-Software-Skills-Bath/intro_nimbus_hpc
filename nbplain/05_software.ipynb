{
 "cells": [
  {
   "cell_type": "markdown",
   "id": "anticipated-portal",
   "metadata": {},
   "source": [
    "# Software"
   ]
  },
  {
   "cell_type": "markdown",
   "id": "joint-chicken",
   "metadata": {},
   "source": [
    "## Overview:\n",
    "- **Teaching:** 10 min\n",
    "- **Exercises:** 0 min\n",
    "\n",
    "**Questions**\n",
    "- How do I access software?\n",
    "- What libraries are available?\n",
    "- How can I access different applications?\n",
    "- What tools are there to help me?\n",
    "- What application should I choose on each instance?\n",
    "\n",
    "**Objectives**\n",
    "- Know that software on Janus is managed with `module` and understand how to use it\n",
    "- Know that software is collected into groups on different instances\n",
    "- Know that software shouldnt be run on the login nodes\n"
   ]
  },
  {
   "cell_type": "markdown",
   "id": "entertaining-circus",
   "metadata": {},
   "source": [
    "## `module`\n",
    "\n",
    "On Nimbus `module` is used to manage different libraries and pieces of software.  Unlike you own machine where you likely have one set of up packages each running with the latest versions, on Nimbus there are many different applications each with different versions and libraries that they rely on.  Tools like module ensure researchers can access the versions of applications and libraries they want and allow the service to be managed more easily.  It also means that the correct dependencies, typically libraries that are used to compile applications, can be loaded automatically making life easier for users.\n",
    "\n",
    "You can check what modules are loaded when you first log-in to Nimbus:"
   ]
  },
  {
   "cell_type": "markdown",
   "id": "charged-buyer",
   "metadata": {},
   "source": [
    "```bash\n",
    "module list\n",
    "```\n",
    "\n",
    "![storage](../images/module_list.png)"
   ]
  },
  {
   "cell_type": "markdown",
   "id": "unable-specialist",
   "metadata": {},
   "source": [
    "You can also run this command at any time to check which modules you have loaded or removed.\n",
    "By default only `gcc-9.2.0`, `mpi/openmpi`, `mkl/mkl-2021.1` are loaded.\n",
    "gcc provides the standard serial gnu compiler suite, openmpi is the contains the openmMPI MPI implementation with parallel mpi libraries and compiler wrappers and mkl is Intel's Math Kernel Library.  "
   ]
  },
  {
   "cell_type": "markdown",
   "id": "disabled-sector",
   "metadata": {},
   "source": [
    "You can see what modules are available with \n",
    "\n",
    "```bash\n",
    "module avail\n",
    "```\n",
    "\n",
    "![storage](../images/module_avail.png)"
   ]
  },
  {
   "cell_type": "markdown",
   "id": "opponent-weather",
   "metadata": {},
   "source": [
    "The software modules will be updated as we build, test and broaden the software stack. Different modules are available depending on the instance type you wish to use. A combined list of all available modules built on the system is presented on the log-in node. \n",
    "\n",
    "The modules available in \n",
    "\n",
    "| File path |\n",
    "|---|\n",
    "| /usr/share/Modules/modulefiles | \n",
    "| /apps/x86_64/modules/all |\n",
    "| /apps/modulefiles | |\n",
    "\n",
    "\n",
    "have not been compiled specifically for a particular compute instance, and are available and can be used on all instances.\n",
    "\n",
    "However the modules in\n",
    "\n",
    "`/apps/modules/`\n",
    "\n",
    "are seperated out by build toolchain and are built for a specific instance. You can check if these modules are available on the instance of your choice with the following command:\n",
    "\n",
    "`module check [instance_type] [module_name]`\n",
    "\n",
    "where `[instance_type]` and `[module_name]` are the instance name and module you wish to check, e.g.:\n",
    "\n",
    "```\n",
    "$ module check fsv2 OpenFOAM\n",
    " The following potential matches are available on the fsv2 instance:\n",
    " match: OpenFOAM/v1812-foss-2020a\n",
    " match: OpenFOAM/v2012-foss-2020a\n",
    " match: OpenFOAM/9-foss-2021a\n",
    " To load one of them include: `module load [module name]` in your run script e.g.:\n",
    " module load OpenFOAM/v1812-foss-2020a\n",
    "```\n",
    "\n",
    "The `[module_name]` you pass to this comand doesn't have to be exact (but the closer the argument you pass to the command is to the actual module name the better), and it will present you with a list of potential matches for the instance you are interested in. These modules cannot be loaded and used on the login-node, and rather should be included in your run-script e.g.:\n",
    "\n",
    "```\n",
    "module purge\n",
    "module load OpenFOAM/v1812-foss-2020a\n",
    "```"
   ]
  },
  {
   "cell_type": "markdown",
   "id": "3007a81e",
   "metadata": {},
   "source": [
    "## Software Install Requests\n",
    "\n",
    "You can request Software installs on the system by contacting <a href=\"mailto:it-hpc@bath.ac.uk\">Research Computing</a>.<br>"
   ]
  }
 ],
 "metadata": {
  "kernelspec": {
   "display_name": "Python 3",
   "language": "python",
   "name": "python3"
  },
  "language_info": {
   "codemirror_mode": {
    "name": "ipython",
    "version": 3
   },
   "file_extension": ".py",
   "mimetype": "text/x-python",
   "name": "python",
   "nbconvert_exporter": "python",
   "pygments_lexer": "ipython3",
   "version": "3.9.7"
  }
 },
 "nbformat": 4,
 "nbformat_minor": 5
}
