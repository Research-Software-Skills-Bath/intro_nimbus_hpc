{
 "cells": [
  {
   "cell_type": "markdown",
   "metadata": {
    "slideshow": {
     "slide_type": "slide"
    }
   },
   "source": [
    "# Introduction to Nimbus: The University of Bath's Cloud HPC"
   ]
  },
  {
   "cell_type": "markdown",
   "metadata": {
    "slideshow": {
     "slide_type": "slide"
    }
   },
   "source": [
    "The following onboarding workshop is an introduction to the new Cloud HPC facility provided by the Advancing Research Computing team and the University of Bath."
   ]
  },
  {
   "cell_type": "markdown",
   "metadata": {
    "slideshow": {
     "slide_type": "slide"
    }
   },
   "source": [
    "## Prerequisites\n",
    "\n",
    "In order to complete the workshop you should be familiar with:\n",
    "* The linux command line\n",
    "* Accessing and submitting jobs to High Performance Computing clusters as a user"
   ]
  },
  {
   "cell_type": "markdown",
   "metadata": {
    "slideshow": {
     "slide_type": "slide"
    }
   },
   "source": [
    "## Schedule\n",
    "\n",
    "Approximate timings for the lesson:\n",
    "\n",
    "| Time | Episode | Description |\n",
    "|---|---|---|\n",
    "| 0:00 | [Introducing HPC](./001_introHPC.ipynb) | Introducing HPC |\n",
    "| 0:10 | [Accessing the System](./01_access_cloud.ipynb) | Logging onto the system |\n",
    "| 0:20 | [Infrastructure](./02_infrastructure.ipynb) | Infrastructure |\n",
    "| 0:30 | [Slurm](./03_slurm.ipynb) | A brief overview of slurm |\n",
    "| 0:40 | [Compute Instances](./04_compute_instances.ipynb) | Overview of compute instances available | \n",
    "| 0:50 | [Software](./05_software.ipynb) | Using software modules |\n",
    "| 0:60 | [Storage](./06_storage.ipynb) | Filesystem and where to keep your data |\n",
    "| 1.05 | [Transferring Files](./07_transferring_files.ipynb) | Transferring files to and from the system |\n",
    "| 1:15 | [Running a job](./08_running_jobs.ipynb) | Submitting a job |\n"
   ]
  },
  {
   "cell_type": "markdown",
   "metadata": {},
   "source": []
  }
 ],
 "metadata": {
  "celltoolbar": "Slideshow",
  "kernelspec": {
   "display_name": "Python 3 (ipykernel)",
   "language": "python",
   "name": "python3"
  },
  "language_info": {
   "codemirror_mode": {
    "name": "ipython",
    "version": 3
   },
   "file_extension": ".py",
   "mimetype": "text/x-python",
   "name": "python",
   "nbconvert_exporter": "python",
   "pygments_lexer": "ipython3",
   "version": "3.9.12"
  }
 },
 "nbformat": 4,
 "nbformat_minor": 2
}
