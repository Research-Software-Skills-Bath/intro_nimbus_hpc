{
 "cells": [
  {
   "cell_type": "markdown",
   "metadata": {
    "slideshow": {
     "slide_type": "slide"
    }
   },
   "source": [
    "# Introduction to Nimbus: The University of Bath's Cloud HPC"
   ]
  },
  {
   "cell_type": "markdown",
   "metadata": {
    "slideshow": {
     "slide_type": "slide"
    }
   },
   "source": [
    "The following onboarding workshop is an introduction to the new Cloud HPC facility provided by the Advancing Research Computing team and the University of Bath."
   ]
  },
  {
   "cell_type": "markdown",
   "metadata": {
    "slideshow": {
     "slide_type": "slide"
    }
   },
   "source": [
    "## Prerequisites\n",
    "\n",
    "In order to complete the workshop you should be familiar with:\n",
    "* The linux command line\n",
    "* Accessing and submitting jobs to High Performance Computing clusters as a user"
   ]
  },
  {
   "cell_type": "markdown",
   "metadata": {
    "slideshow": {
     "slide_type": "slide"
    }
   },
   "source": [
    "## Schedule\n",
    "\n",
    "Approximate timings for the lesson:\n",
    "\n",
    "| Time | Episode | Description |\n",
    "|---|---|---|\n",
    "| 0:00 | [Accessing the System](./01_access_cloud.ipynb) | Logging onto the system |\n",
    "| 0:10 | [Infrastructure](./02_infrastructure.ipynb) | Infrastructure |\n",
    "| 0:20 | [Slurm](./03_slurm.ipynb) | A brief overview of slurm |\n",
    "| 0:30 | [Compute Instances](./04_compute_instances.ipynb) | Overview of compute instances available | \n",
    "| 0:40 | [Storage](./05_storage.ipynb) | Storage set-up and where to keep your data |\n",
    "| 0:50 | [Software](./06_software.ipynb) | Using software modules |\n",
    "| 0:55 | [Running a job](./07_running_jobs.ipynb) | Submitting a job |"
   ]
  },
  {
   "cell_type": "markdown",
   "metadata": {},
   "source": []
  }
 ],
 "metadata": {
  "celltoolbar": "Slideshow",
  "kernelspec": {
   "display_name": "Python 3",
   "language": "python",
   "name": "python3"
  },
  "language_info": {
   "codemirror_mode": {
    "name": "ipython",
    "version": 3
   },
   "file_extension": ".py",
   "mimetype": "text/x-python",
   "name": "python",
   "nbconvert_exporter": "python",
   "pygments_lexer": "ipython3",
   "version": "3.9.7"
  }
 },
 "nbformat": 4,
 "nbformat_minor": 2
}
