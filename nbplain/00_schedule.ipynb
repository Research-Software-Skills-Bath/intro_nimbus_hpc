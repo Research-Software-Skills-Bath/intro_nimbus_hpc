{
 "cells": [
  {
   "cell_type": "markdown",
   "metadata": {
    "slideshow": {
     "slide_type": "slide"
    }
   },
   "source": [
    "# Introduction to Nimbus: The University of Bath's Cloud HPC"
   ]
  },
  {
   "cell_type": "markdown",
   "metadata": {
    "slideshow": {
     "slide_type": "slide"
    }
   },
   "source": [
   ]
  },
  {
   "cell_type": "markdown",
   "metadata": {
    "slideshow": {
     "slide_type": "slide"
    }
   },
   "source": [
    "## Prerequisites\n",
    "\n",
    "In order to complete the workshop you should be familiar with:\n",
    "* The linux command line\n",
    "* Accessing and submitting jobs to High Performance Computing clusters as a user"
   ]
  },
  {
   "cell_type": "markdown",
   "metadata": {
    "slideshow": {
     "slide_type": "slide"
    }
   },
   "source": [
    "## Schedule\n",
    "\n",
    "Approximate timings for the lesson:\n",
    "\n",
    "|  Episode | Description |\n",
    "|---|---|\n",
    "| [Introducing HPC](./01_introHPC.ipynb) | Introducing HPC |\n",
    "| [Accessing the System](./02_access_cloud.ipynb) | Logging onto the system |\n",
    "| [Infrastructure](./03_infrastructure.ipynb) | Infrastructure |\n",
    "| [Slurm](./04_slurm.ipynb) | A brief overview of slurm |\n",
    "| [Compute Instances](./05_compute_instances.ipynb) | Overview of compute instances available | \n",
    "| [Software](./06_software.ipynb) | Using software modules |\n",
    "| [Storage](./07_storage.ipynb) | Filesystem and where to keep your data |\n",
    "| [Transferring Files](./08_transferring_files.ipynb) | Transferring files to and from the system |\n",
    "| [Running a job](./09_running_jobs.ipynb) | Submitting a job |\n"
   ]
  },
  {
   "cell_type": "markdown",
   "metadata": {},
   "source": []
  }
 ],
 "metadata": {
  "celltoolbar": "Slideshow",
  "kernelspec": {
   "display_name": "Python 3 (ipykernel)",
   "language": "python",
   "name": "python3"
  },
  "language_info": {
   "codemirror_mode": {
    "name": "ipython",
    "version": 3
   },
   "file_extension": ".py",
   "mimetype": "text/x-python",
   "name": "python",
   "nbconvert_exporter": "python",
   "pygments_lexer": "ipython3",
   "version": "3.9.12"
  }
 },
 "nbformat": 4,
 "nbformat_minor": 2
}
