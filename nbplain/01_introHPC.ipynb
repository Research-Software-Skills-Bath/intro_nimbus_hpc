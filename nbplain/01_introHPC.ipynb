{
 "cells": [
  {
   "cell_type": "markdown",
   "metadata": {
    "slideshow": {
     "slide_type": "slide"
    }
   },
   "source": [
    "# Introducing High Performance Computing"
   ]
  },
  {
   "cell_type": "markdown",
   "metadata": {
    "slideshow": {
     "slide_type": "slide"
    }
   },



   "source": [
    "## Overview:\n",
    "\n",
    "\n",
    "**Questions**\n",
    "- Why would I be interested in High Performance Computing (HPC)?\n",
    "- What can I expect to learn from this course?\n",
    "\n",
    "**Objectives**\n",
    "- Understand that HPC is a collection of computing resourcesto deliver higher performance than a single machine.\n",
    "- Understand tha HPC can help you run your calculations more effieciently and more reliably.\n",
    "- Identify how an HPC system could benefit you."
   ]




  },
  {
   "cell_type": "markdown",
   "metadata": {},
   "source": [
    "### What is HPC and why is it different to using your desktop?\n",
    "“High Performance Computing most generally refers to the practice of aggregating computing power in a way that delivers much higher performance than one could get out of a typical desktop computer or workstation in order to solve large problems in science, engineering, or business.” - insideHPC\n",
    "\n",
    "\n",
    "\n",
    "![Balena](../images/balena-lights.jpg)\n",
    "\n",
    "Lets consider seeveral research scenarios:\n",
    "\n",
    "- A statistics student wants to cross-validate a model. This involves running the model 1000 times – but each run takes an hour. Running the model on a laptop will take over a month! In this research problem, final results are calculated after all 1000 models have run, but typically only one model is run at a time (in serial) on the laptop. Since each of the 1000 runs is independent of all others, and given enough computers, it’s theoretically possible to run them all at once (in parallel).\n",
    "- A genomics researcher has been using small datasets of sequence data, but soon will be receiving a new type of sequencing data that is 10 times as large. It’s already challenging to open the datasets on a computer – analyzing these larger datasets will probably crash it. In this research problem, the calculations required might be impossible to parallelize, but a computer with more memory would be required to analyze the much larger future data set.\n",
    "- An engineer is using a fluid dynamics package that has an option to run in parallel. So far, this option was not used on a desktop. In going from 2D to 3D simulations, the simulation time has more than tripled. It might be useful to take advantage of that option or feature. In this research problem, the calculations in each region of the simulation are largely independent of calculations in other regions of the simulation. It’s possible to run each region’s calculations simultaneously (in parallel), communicate selected results to adjacent regions as needed, and repeat the calculations to converge on a final set of results. In moving from a 2D to a 3D model, both the amount of data and the amount of calculations increases greatly, and it’s theoretically possible to distribute the calculations across multiple computers communicating over a shared network.\n",
    "\n",
    "\n",
    "In all these cases, access to more (and larger) computers is needed. Those computers should be usable at the same time, solving many researchers’ problems in parallel."
   ]
  },
  {
   "cell_type": "markdown",
   "metadata": {},
   "source": [
    "## PC vs HPC\n",
    "\n",
    "Your PC is your local computing resource, good for small computational tasks. It is flexible, easy to set-up and configure for new tasks, though it has limited computational resources.\n",
    "\n",
    "\n",
    "![PC](../images/pc.webp)\n",
    "\n",
    "Let’s dissect what resources programs running on a laptop require:\n",
    "\n",
    "- the keyboard and/or touchpad is used to tell the computer what to do (Input)\n",
    "- the internal computing resources Central Processing Unit (CPU_ and Memory are used to perform calculations the Screen Display depicts progress and results (Output) alternatvely, both input and output can be done using data stored on Disk or on a Network\n",
    "- Schematically, this can be reduced to the following:\n",
    "\n",
    "![Balena](../images/Simple_Von_Neumann_Architecture.svg)\n",
    "\n",
    "### If Our PC isnt Powerful Enough?\n",
    "\n",
    "When the task to solve become heavy on computations, the operations are typically out-sourced from the local laptop or desktop to elsewhere. Take for example the task to find the directions for your next business trip. The capabilities of your laptop are typically not enough to calculate that route in real time, so you use a website, which in turn runs on a computer that is almost always a machine that is not in the same room as you are. Such a remote machine is generically called a server.\n",
    "\n",
    "<img src=\"../images/servers-openclipartorg-ericlemerdy.svg\" width=\"300\" height=\"300\">\n",
    "\n",
    "The internet made it possible for these data centers to be far remote from your laptop.\n",
    "\n",
    "The server itself has no direct display or input methods attached to it. But most importantly, it has much more storage, memory and compute capacity than your laptop will ever have. However, you still need a local device (laptop, workstation, mobile phone or tablet) to interact with this remote machine.\n",
    "\n",
    "### HPC Cluster\n",
    "\n",
    "\n",
    "If the computational task or analysis to complete is daunting for a single server, larger agglomerations of servers are used. These go by the name of clusters or supercomputers.\n",
    "\n",
    "A HPC system is typically described as a cluster as it is made up of a **`cluster`** of computers, or compute nodes. Each individual compute node is typically a lot more powerful than any PC  - i.e. more memory, many more and faster CPU cores.\n",
    "\n",
    "![Cluster](../images/compute_cluster.png)\n",
    "\n",
    "The methodology of providing the input data, communicating options and flags as well as retrieving the results is quite different to using a plain laptop. Moreover, using a GUI style interface is often discarded in favor of using the command line. This imposes a double paradigm shift for prospect users:\n",
    "\n",
    "- they work with the command line (not a GUI style user interface)\n",
    "- they work with a distributed set of computers (called nodes)"
   ]
  },
  {
   "cell_type": "markdown",
   "metadata": {},
   "source": [
    "## Parallelisation\n",
    "\n",
    "But how doe we use the resources on the cluster?\n",
    "\n",
    "Lets start with the idea of processing 1 input file  to generate 1 output (result) file. On a personal computer this would happen with a single core in the CPU.\n",
    "\n",
    "![serial](../images/serial_hpc_crop.png)\n",
    "\n",
    "On a cluster we have access to many cores on a single node and/or multiple nodes, the idea is then to make use of the different cores to "distribute" the simulation on them so that the execution time decease. It is clear that for this to work the software you are using needs to be able to use this cores (in software engineering terms, it needs to be written in some Parallae language and then compiled for the machines. \n",
    "\n",
    "![multi](../images/multithreaded_hpc.png)\n",
    "\n",
    "As we have already seen, the power of HPC systems comes from parallelism, i.e. having lots of processors/disks etc. connected together rather than having more powerful components than your laptop or workstation.\n",
    "\n",
    "Often, when running research programs on HPC you will need to run a program that has been built to use the MPI (Message Passing Interface) parallel library. The MPI library allows programs to exploit multiple processing cores in parallel to allow researchers to model or simulate faster on larger problem sizes. The details of how MPI work are not important for this course or even to use programs that have been built using MPI; however, MPI programs typically have to be launched in job submission scripts in a different way to serial programs and users of parallel programs on HPC systems need to know how to do this. Specifically, launching parallel MPI programs typically requires four things:"
   ]
  },
  {
   "cell_type": "markdown",
   "metadata": {
    "slideshow": {
     "slide_type": "slide"
    }
   },
   "source": [
    "## Key Points:\n",
    "\n",
    "- An HPC system is a set of networked machines.\n",
    "- HPC systems typically provides login nodes and a set of worker compute nodes\n",
    "- The resources found on independent (worker) nodes can vary in volume and type (amount of RAM, processor architecture, availability of network mounted file systems, etc.)\n",
    "- The power of the HPC cluster can be harnassed with parallelism, using libraries such as MPI."
   ]
  },
  {
   "cell_type": "markdown",
   "metadata": {},
   "source": []
  }
 ],
 "metadata": {
  "celltoolbar": "Slideshow",
  "interpreter": {
   "hash": "34ca29161607e5f7cfaedbbe9382ec6f901cc55d05021f1b8574c9c3a634adef"
  },
  "kernelspec": {
   "display_name": "Python 3 (ipykernel)",
   "language": "python",
   "name": "python3"
  },
  "language_info": {
   "codemirror_mode": {
    "name": "ipython",
    "version": 3
   },
   "file_extension": ".py",
   "mimetype": "text/x-python",
   "name": "python",
   "nbconvert_exporter": "python",
   "pygments_lexer": "ipython3",
   "version": "3.9.12"
  }
 },
 "nbformat": 4,
 "nbformat_minor": 2
}
