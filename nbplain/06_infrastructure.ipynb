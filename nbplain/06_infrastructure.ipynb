{
 "cells": [
  {
   "cell_type": "markdown",
   "id": "anticipated-portal",
   "metadata": {},
   "source": [
    "# Infrastructure\n",
    "\n",
    "A brief overview of the Nimbus Infrastructure"
   ]
  },
  {
   "cell_type": "markdown",
   "id": "joint-chicken",
   "metadata": {},
   "source": [
    "## Overview:\n",
    "- **Teaching:** 10 min\n",
    "- **Exercises:** 0 min\n",
    "\n",
    "**Questions**\n",
    "- What does the underlying infrastructure for Nimbus look like?\n",
    "\n",
    "**Objectives**\n",
    "- Know that the Nimbus has effectively has two clusters, in order to allow for continuous development of the system. \n",
    "- KNow that when the reseacrh computing team switch from `blue` to `green` you will need to log out and log back in.\n",
    "\n"
   ]
  },
  {
   "cell_type": "markdown",
   "id": "edc76d55",
   "metadata": {},
   "source": [
    "## Nimbus Infrastructure\n",
    "\n",
    "The underlying infrastructure for the Nimbus system can be seen below:\n",
    "\n",
    "![infrastrcture](../images/infrastructure.png)\n",
    "\n",
    "Services offered in the cloud can change rapidly, an Nimbus has been designed with this in mind. We use `blue-green` deployment, in order to allow rolling updates of the system with continuity of service. In essence there are two clusters, one `active` and one `inactive`.  In order to ensure high availablity and increase resilience, on each cluster there are two login-nodes, and two schedulers.\n",
    "\n",
    "As a user most of this will be unnoticable. The you will automatically be put onto one of the login nodes on the *active cluster* when you log onto the system. \n",
    "\n",
    "The only time you may have to take action as a result of this infrastructure is if the `active` cluster is *switched*. In which case you will get a message to the terminal informing you about the upcoming switch, and you will have to log out and back in in order to continue your work. Your jobs will continue to run, and you will not have to resubmit them."
   ]
  },
  {
   "cell_type": "markdown",
   "id": "2785f1a4",
   "metadata": {},
   "source": [
    "## Key Points:\n",
    "- There are two different clusters on the Nimbus system.\n",
    "- You will automcatically be put on the `active` cluster when you log in.\n",
    "- If we switch `active` clusters in order to update the system you will have to log out and back in.\n"
   ]
  }
 ],
 "metadata": {
  "kernelspec": {
   "display_name": "Python 3",
   "language": "python",
   "name": "python3"
  },
  "language_info": {
   "codemirror_mode": {
    "name": "ipython",
    "version": 3
   },
   "file_extension": ".py",
   "mimetype": "text/x-python",
   "name": "python",
   "nbconvert_exporter": "python",
   "pygments_lexer": "ipython3",
   "version": "3.9.7"
  }
 },
 "nbformat": 4,
 "nbformat_minor": 5
}
