{
 "cells": [
  {
   "cell_type": "markdown",
   "metadata": {
    "slideshow": {
     "slide_type": "slide"
    }
   },
   "source": [
    "# Compute Instances"
   ]
  },
  {
   "cell_type": "markdown",
   "metadata": {
    "slideshow": {
     "slide_type": "subslide"
    }
   },
   "source": [
    "## Overview:\n",
    "\n",
    "**Questions**\n",
    "- What compute instances are available?\n",
    "- How do I choose the right instance?\n",
    "- What do these cost?\n",
    "- How do I see the partitions?\n",
    "- What is spot and Pay as you Go?\n",
    "\n",
    "**Objectives**\n",
    "- Understand what compute instances are currently available\n",
    "- Know where to get information on the compute instances, including costs\n",
    "- Understand the difference between spot and pay-as-you-go\n",
    "- Know which instance to use for your code\n"
   ]
  },
  {
   "cell_type": "markdown",
   "metadata": {
    "slideshow": {
     "slide_type": "slide"
    }
   },
   "source": [
    "## Slurm partitions\n",
    "\n",
    "The new hpc service Nimbus provides user access to an array of different compute instances. These instances are accessed through different slurm partitions.\n",
    "\n",
    "In order to list the partitions issue the following command:\n",
    "\n",
    "`sinfo`\n",
    "\n",
    "which will list the partitions, the nodes in the partitions, availability and the current state:\n",
    "\n",
    "![linux-login](../images/sinfo_new.png)\n",
    "\n",
    "The partitions follow a naming converntion\n",
    "\n",
    "`[pricing tier]-[instance type]-[no of cpus-per-node]`\n",
    "\n",
    "So, for example the partition `spot-hbv3-120` is for spot priced hbv3 instances with 120 CPUs per node, while `paygo-hc-44` is for pay-as-you-go priced hc instances with 44 CPUs per node.\n",
    "\n",
    "Please note that the names provided by the cost estimator (see below "Indicative Cost of Instances") have a slightly different format. For instance `paygo-fsv2-1` would give `F1Ss v2` on the cost estimator; `spot-ncv3-12` would give `NC12s v3 spot` on the cost estimator.\n"
   ]
  },
  {
   "cell_type": "markdown",
   "metadata": {},
   "source": [
    "## Compute Instances \n",
    "\n",
    "The instance types currently available are listed below:\n",
    "    \n",
    "| Instance type | CPU model | vCPUS | GPU model |vGPUS|\n",
    "|---|---|---|---|---|\n",
    "| fsv2  | Intel Skylake | 2,4,8,16,32,48,64,72 | - | -|\n",
    "| hbv2  | AMD Epyc Rome | 120 | - | - |\n",
    "| hbv3  | AMD Epyc Milan | 120 | - | - |\n",
    "| hc    | Intel Skylake | 44 | - | - |\n",
    "| ncv3  | Intel Broadwell | 6 | Tesla V100 | 1 |\n",
    "| ncv3  | Intel Broadwell | 12 | Tesla V100 | 2 |\n",
    "| ncv3  | Intel Broadwell | 24 | Tesla V100 | 4 |\n",
    "| ncv3r | Intel Broadwell | 24 | Tesla V100 | 4 |\n",
    "| ndv2  | Intel Skylake   | 40 | Tesla V100 | 8 |\n",
    "\n",
    "\n",
    "As mentioned above these instances are referenced in the slurm partition, along with the number of CPUs and the pricing tier."
   ]
  },
  {
   "cell_type": "markdown",
   "metadata": {},
   "source": [
    "## Information: Instance types\n",
    "\n",
    "You can read more about the instance types here: https://docs.microsoft.com/en-us/azure/virtual-machines/sizes including the specs for each instance type."
   ]
  },
  {
   "cell_type": "markdown",
   "metadata": {},
   "source": [
    "### Choosing the right instance\n",
    "\n",
    "Azure offers a range of virtual machines (VMs) optimized for both CPU and GPU-intensive workloads. Choosing the correct compute instance and partition will depend primarily on your specific scientific research requirements such as workload you are running, and will depend on cost, runtime and whether an interruption is acceptable (more on that in spot vs pay-as-you-go). \n",
    "\n",
    "The instance types currently available in Nimbus:\n",
    "\n",
    "- **High performance compute**: hbv2, hbv3 & hc series\n",
    "- **GPU enabled**: ncv3, ncv3r, & ndv2\n",
    "- **Compute Optimised**: fsv2\n",
    "\n",
    "The descriptions of the instances provided by Azure are as follows:\n",
    "\n",
    "- **High Performance Compute**: `Our fastest and most powerful CPU virtual machines with optional high-throughput network interfaces (RDMA).`\n",
    "- **GPU enabled**: `Specialized virtual machines targeted for heavy graphic rendering and video editing, as well as model training and inferencing (ND) with deep learning. Available with single or multiple GPUs.`\n",
    "- **Compute Optimised**: `High CPU-to-memory ratio. Good for medium traffic web servers, network appliances, batch processes, and application servers.`\n",
    "\n",
    "Briefly:\n",
    "- The `hb*` instances are suggested for applications driven by memory bandwidth such as OpenFOAM and ANSYS.\n",
    "- The `hc*` & `f*` instances are suggested for applications driven by compute such as HPL and ORCA.\n",
    "- The `n*` partitions are for GPU accelerated workloads and visualization sessions.\n",
    "\n",
    "If in doubt - ask or test!"
   ]
  },
  {
   "cell_type": "markdown",
   "metadata": {},
   "source": [
    "### Spot vs Pay-As-You-Go\n",
    "\n",
    "We have mentioned the `pricing tier` above, which is referenced in the slurm partition names. This pricing tier refers to the two different tiers:\n",
    "- Spot\n",
    "- Pay-As-You-go\n",
    "\n",
    "Spot pricing allows access to unused Azure compute capacity at large discounts, up to 90%, compared to Pay-As-You-Go prices. The drawback is that the job can be interrupted at any time and be evicted, depending on the available Azure capacity.\n",
    "\n",
    "Deciding whether to use the Spot or Pay-As-You-Go tiers will depend on how easy it is to pick up your calculation should it be evicted, the time scales for you calculation and your available budget.\n",
    "\n",
    "If your job is subject to an eviction you will recieve a message in the stdout of the job, and the status in the finance portal will be `EVICTED`.\n",
    "\n",
    "Users should use the [Research Computing Cost Estimator](https://cost-calc.hpc.bath.ac.uk/) RCCE to calculate compute cost (please note that this estimator will only include the instances available in Nimbus). The payment process involves a finance check on the project balance prior to job submission: \n",
    "\n",
    "1.\tJob successfully completed: amount is deduced from user’s account. \n",
    "2.\tNode evicted: the University covers this cost if the simulation time is less than one hour. For more than one hour, the user will have the funds deducted from the project account. \n",
    "3.\tJob failure: the user will have the fund deducted from the project account.\n",
    "\n",
    "![job-eviction](../images/jobeviction.png)\n"
   ]
  },
  {
   "cell_type": "markdown",
   "metadata": {},
   "source": [
    "### Restrictions on Instances\n",
    "\n",
    "The only restriction put in place by Research Computing on the size of jobs you are able to run on Nimbus is to restrict the number of nodes you can run on using the fsv2 instances to one. These are RDMA connected, and you cannot run single jobs across multiple nodes, hence the restriction.\n",
    "\n",
    "All other restrictions are put in place by your Resource Allocation Administrators using the finance portal. Should you wish to change the restrictions either do so in the portal, or contact the person that has given you access to the resource allocation and request they do so.\n"
   ]
  },
  {
   "cell_type": "markdown",
   "metadata": {},
   "source": [
    "### Indicative Cost of Instances\n",
    "\n",
    "It is important to emphasise that **different compute instances will incur different costs**. \n",
    "\n",
    "A cost calculator has been launched that lists the current prices for each compute instance, as well as allowing you to cost up resources for inclusion in funding proposals.\n",
    "\n",
    "https://cost-calc.hpc.bath.ac.uk/\n"
   ]
  },
  {
   "cell_type": "markdown",
   "metadata": {
    "slideshow": {
     "slide_type": "slide"
    }
   },
   "source": [
    "## Key Points:\n",
    "- Different compute instances are accessed through different slurm partitions\n",
    "- The Slurm partitions follow the naming convention: `[pricing tier]-[instance type]-[no of cpus-per-node]`\n",
    "- There are two pricing tiers: Spot and Pay-As-You-Go. Spot benefits from significant discounts (up to 90%), but may be evicted\n",
    "- Different instances are suitable for different calculation types and will cost different amounts "
   ]
  }
 ],
 "metadata": {
  "celltoolbar": "Slideshow",
  "kernelspec": {
   "display_name": "Python 3 (ipykernel)",
   "language": "python",
   "name": "python3"
  },
  "language_info": {
   "codemirror_mode": {
    "name": "ipython",
    "version": 3
   },
   "file_extension": ".py",
   "mimetype": "text/x-python",
   "name": "python",
   "nbconvert_exporter": "python",
   "pygments_lexer": "ipython3",
   "version": "3.9.12"
  }
 },
 "nbformat": 4,
 "nbformat_minor": 2
}
