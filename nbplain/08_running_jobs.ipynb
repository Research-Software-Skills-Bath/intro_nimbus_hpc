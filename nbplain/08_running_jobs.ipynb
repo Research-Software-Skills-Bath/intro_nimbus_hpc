{
 "cells": [
  {
   "cell_type": "markdown",
   "id": "bridal-option",
   "metadata": {},
   "source": [
    "# Running a job"
   ]
  },
  {
   "cell_type": "markdown",
   "id": "cross-designer",
   "metadata": {},
   "source": [
    "Below are example submission scripts for several different codes.\n",
    "\n",
    "These examples copy the run data from the submission directory in `/campaign/` area to `$BURSTBUFFER` before the run, and copy any files back to `/campaign/` afterwards. The script then cleans up by removing the `working_directory` in the `$BURSTBUFFER` area (this will be done automatically, but is perhaps a good habit to get into for furture developments in terms of storage were this may not be the case).\n",
    "\n",
    "\n",
    "Obviously there are an infinite number of ways to structure the logic in your submission scripts in order to handle the data transfer between `/campaign/` and `$BURSTBUFFER`.\n",
    "\n",
    "The following examples can be adapted to your own needs. They should be submitted from the `/campaign/` storage area, they will create a temporary working directory in `$BURSTBUFFER/$SLURM_JOB_ID` and copy the contents of the submission folder over to the working directory. After the run it copies the contents of the working directory in `$BURSTBUFFER/SLURM_JOB_ID` back to the submission directory in `/campaign/`. It then cleans up the working directory.\n",
    "\n"
   ]
  },
  {
   "cell_type": "markdown",
   "id": "99d2c018",
   "metadata": {},
   "source": [
    "## Account code\n",
    "\n",
    "The account code used in your run script `#SBATCH --account=ACCOUNT_CODE` should match the resource allocation you wish to run your job against. If you don't know your resource allocation code check the research computing account managemnet portal at `rcam.bath.ac.uk` (you need to be on the University's VPN All traffic), or ask your account administrator. \n",
    "\n",
    "## QOS\n",
    "\n",
    "The quality of service (QOS) set in your run script with e.g. `#SBATCH --qos=spot-hbv3-120` should match the partition name you are submitting to. \n",
    "\n"
   ]
  },
  {
   "cell_type": "markdown",
   "id": "cross-benefit",
   "metadata": {},
   "source": [
    "## Openfoam\n",
    "\n",
    "We will run an example job using the OpenFoam module for the hbv3-120 instance\n",
    "\n",
    "`OpenFOAM/v2012-foss-2020a`"
   ]
  },
  {
   "cell_type": "markdown",
   "id": "established-darwin",
   "metadata": {},
   "source": [
    "An example run script - create a file named `run_job.slm` with the following contents (remembering to replace the account code with that of your resource allocation):\n",
    "    \n",
    "```bash\n",
    "#!/bin/bash\n",
    "#SBATCH --account=prj3_phase1\n",
    "#SBATCH --job-name=JOB_NAME\n",
    "#SBATCH --output=JOB_NAME.%j.o\n",
    "#SBATCH --error=JOB_NAME.%j.e\n",
    "#SBATCH --nodes=1\n",
    "#SBATCH --ntasks-per-node=120\n",
    "#SBATCH --partition=spot-hbv3-120\n",
    "#SBATCH --qos=spot-hbv3-120\n",
    "#SBATCH --time=04:00:00\n",
    "\n",
    "\n",
    "# Load the openFOAM module \n",
    "module purge\n",
    "module load OpenFOAM/v2012-foss-2020a\n",
    "\n",
    "# as en example we will copy the dambreak tutorial to our current\n",
    "# directory\n",
    "cp -r $WM_PROJECT_DIR/tutorials/multiphase/interFoam/laminar/damBreak ./\n",
    "cd damBreak\n",
    "\n",
    "# set campaigndir as our current working directory for copy back\n",
    "\n",
    "campaigndir=$(pwd)\n",
    "\n",
    "# Check we are submitting from campaign \n",
    "echo $campaigndir | if grep -q campaign; then \n",
    "    # Copy any inputs required to the work directory:\n",
    "    # excluding and files with a <JOB_NAME> (whatever your job name actualy is...) prefix, so your\n",
    "    # output and error files don't get over written on the copy back\n",
    "    rsync -aP --exclude=JOB_NAME.* $campaigndir/* $BURSTBUFFER\n",
    "\n",
    "    cd $BURSTBUFFER;\n",
    "    echo  \"Work directory\" $BURSTBUFFER ;\n",
    "    \n",
    "    # source the foamDotFile and do the run\n",
    "    source $WM_PROJECT_DIR/etc/bashrc\n",
    "    ./Allrun\n",
    "\n",
    "    # Copy back any results you need to campaign.\n",
    "    srun cp -Rf $BURSTBUFFER/*  $campaigndir/\n",
    "    #Clean up burstbuffer\n",
    "    rm -rf $BURSTBUFFER\n",
    "else\n",
    "     echo \"Not submitting from campaign. Check your submission script.\"\n",
    "     exit 1;\n",
    "fi\n",
    "\n",
    "\n",
    "```"
   ]
  },
  {
   "cell_type": "markdown",
   "id": "injured-lying",
   "metadata": {},
   "source": [
    "\n",
    "And to run the job issue the following command in the terminal:\n",
    "\n",
    "```bash\n",
    "sbatch run_job.slm\n",
    "```"
   ]
  },
  {
   "cell_type": "markdown",
   "id": "gothic-delivery",
   "metadata": {},
   "source": [
    "### Interactive job\n",
    "\n",
    "It is also possible to obtain a compute node and work interactively. \n",
    "\n",
    "Issuing the following command in the terminal will request a spot-hbv3-120 compute instance for 6 hours:\n",
    "\n",
    "```\n",
    "srun --partition spot-hbv3-120 --nodes 1  --account prj4_phase1  --qos spot-hbv3-120 --job-name \"interactive\" --cpus-per-task 120 --time 6:00:00 --pty bash\n",
    "```"
   ]
  },
  {
   "cell_type": "markdown",
   "id": "0e093085",
   "metadata": {},
   "source": []
  }
 ],
 "metadata": {
  "kernelspec": {
   "display_name": "Python 3",
   "language": "python",
   "name": "python3"
  },
  "language_info": {
   "codemirror_mode": {
    "name": "ipython",
    "version": 3
   },
   "file_extension": ".py",
   "mimetype": "text/x-python",
   "name": "python",
   "nbconvert_exporter": "python",
   "pygments_lexer": "ipython3",
   "version": "3.9.7"
  }
 },
 "nbformat": 4,
 "nbformat_minor": 5
}
